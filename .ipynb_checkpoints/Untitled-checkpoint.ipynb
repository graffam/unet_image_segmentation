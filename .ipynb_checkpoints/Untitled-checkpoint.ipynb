{
 "cells": [
  {
   "cell_type": "markdown",
   "metadata": {},
   "source": [
    "# Image Segmentation on a U-Net Convulotional Neural Network\n",
    "\n",
    "## Machine Learning Capstone\n",
    "\n",
    "### Alexander Graff\n",
    "### June 2nd, 2018\n",
    "\n",
    "### Intro\n",
    "The mission is simple, create a seperate black and white representation also known as a mask, of each cell nuclei given in an image. The process of creating a simplified version or creating different segments of an area is known as image segmentation. The data is provided by the Booz Allen Hamilton Data Science Bowel. U-nets were chosen due to their proven ability to segment microscopic images. The first step is getting the training and test data. I have already downloaded the first round of training a testing data. Lets take a look at the first couple of trainining images and their associated masks."
   ]
  },
  {
   "cell_type": "code",
   "execution_count": 2,
   "metadata": {},
   "outputs": [],
   "source": [
    "# We use this to read image files in python, \n",
    "# default intepertation of an image is RGB\n",
    "import os\n",
    "from skimage.io import imread, imshow\n",
    "import numpy as np\n",
    "from matplotlib import pyplot as plt\n"
   ]
  },
  {
   "cell_type": "code",
   "execution_count": 37,
   "metadata": {},
   "outputs": [
    {
     "data": {
      "image/png": "[encoded data removed]",
      "text/plain": [
       "<Figure size 504x432 with 3 Axes>"
      ]
     },
     "metadata": {},
     "output_type": "display_data"
    }
   ],
   "source": [
    "# Lets read some of our images\n",
    "target = \"/home/graffam/unet/data/stage1_train/00071198d059ba7f5914a526d124d28e6d010c92466da21d4a04cd5413362552/images/00071198d059ba7f5914a526d124d28e6d010c92466da21d4a04cd5413362552.png\"\n",
    "mask = \"/home/graffam/unet/data/stage1_train/00071198d059ba7f5914a526d124d28e6d010c92466da21d4a04cd5413362552/masks/07a9bf1d7594af2763c86e93f05d22c4d5181353c6d3ab30a345b908ffe5aadc.png\"\n",
    "mask2 = \"/home/graffam/unet/data/stage1_train/00071198d059ba7f5914a526d124d28e6d010c92466da21d4a04cd5413362552/masks/2c47735510ef91a11fde42b317829cee5fc04d05a797b90008803d7151951d58.png\"\n",
    "\n",
    "target = imread(PATH)\n",
    "mask = imread(mask)\n",
    "mask2 = imread(mask2)\n",
    "# Creates the nice graphic\n",
    "fig, axes = plt.subplots(1, 3, figsize=(7, 6), sharex=True, sharey=True)\n",
    "ax = axes.ravel()\n",
    "\n",
    "ax[0].imshow(target)\n",
    "ax[0].set_title(\"Original image\")\n",
    "\n",
    "ax[1].imshow(mask)\n",
    "ax[1].set_title(\"mask 1\")\n",
    "\n",
    "ax[2].imshow(mask2)\n",
    "ax[2].set_title(\"mask 2\")\n",
    "\n",
    "# Removes the axis labels...\n",
    "for a in ax.ravel():\n",
    "    a.axis('off')\n",
    "\n",
    "fig.tight_layout()"
   ]
  },
  {
   "cell_type": "markdown",
   "metadata": {},
   "source": [
    "It looks like the mask images are actually not in black and white, we'll use some processing when we open the images to make sure everything is in grayscale. Lets create the training and testing datasets now. First we'll need to establish how large we want our images to be.\n"
   ]
  },
  {
   "cell_type": "code",
   "execution_count": 3,
   "metadata": {},
   "outputs": [],
   "source": [
    "## SETTINGS\n",
    "IMG_WIDTH = 256\n",
    "IMG_HEIGHT = 256\n",
    "IMG_CHANNELS = 3\n",
    "# Training and testing data path\n",
    "TRAIN_PATH = \"./data/stage1_train/\"\n",
    "TEST_PATH = \"./data/stage1_test/\"\n",
    "# Get the ids\n",
    "train_ids = next(os.walk(TRAIN_PATH))[1]\n",
    "test_ids = next(os.walk(TEST_PATH))[1]\n"
   ]
  },
  {
   "cell_type": "code",
   "execution_count": null,
   "metadata": {},
   "outputs": [],
   "source": []
  }
 ],
 "metadata": {
  "kernelspec": {
   "display_name": "Python 3",
   "language": "python",
   "name": "python3"
  },
  "language_info": {
   "codemirror_mode": {
    "name": "ipython",
    "version": 3
   },
   "file_extension": ".py",
   "mimetype": "text/x-python",
   "name": "python",
   "nbconvert_exporter": "python",
   "pygments_lexer": "ipython3",
   "version": "3.6.5"
  }
 },
 "nbformat": 4,
 "nbformat_minor": 2
}
